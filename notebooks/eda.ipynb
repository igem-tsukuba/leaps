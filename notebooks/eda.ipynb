{
 "cells": [
  {
   "cell_type": "code",
   "execution_count": null,
   "id": "0",
   "metadata": {},
   "outputs": [],
   "source": [
    "# ライブラリのインポート\n",
    "\n",
    "import pandas as pd\n",
    "import torch\n",
    "import torch.nn.functional as F\n",
    "from transformers import AutoModelForCausalLM, AutoTokenizer\n",
    "from sklearn.linear_model import LinearRegression\n",
    "import matplotlib.pyplot as plt\n",
    "from tqdm import tqdm\n",
    "import numpy as np"
   ]
  },
  {
   "cell_type": "code",
   "execution_count": null,
   "id": "1",
   "metadata": {},
   "outputs": [],
   "source": [
    "# デバイスの設定\n",
    "\n",
    "device = torch.device(\"cuda\" if torch.cuda.is_available() else \"cpu\")"
   ]
  },
  {
   "cell_type": "code",
   "execution_count": null,
   "id": "2",
   "metadata": {},
   "outputs": [],
   "source": [
    "# データの読み込み\n",
    "\n",
    "df = pd.read_csv(\"../data/processed/amino-acid-genotypes-to-brightness.csv\")"
   ]
  },
  {
   "cell_type": "code",
   "execution_count": null,
   "id": "3",
   "metadata": {},
   "outputs": [],
   "source": [
    "# モデルの読み込み\n",
    "\n",
    "model_name_or_path = \"hugohrban/progen2-base\"\n",
    "\n",
    "model = (\n",
    "    AutoModelForCausalLM.from_pretrained(model_name_or_path, trust_remote_code=True)\n",
    "    .to(device)\n",
    "    .eval()\n",
    ")\n",
    "tokenizer = AutoTokenizer.from_pretrained(model_name_or_path, trust_remote_code=True)\n",
    "tokenizer.pad_token = tokenizer.eos_token\n",
    "tokenizer.padding_side = \"right\""
   ]
  },
  {
   "cell_type": "code",
   "execution_count": null,
   "id": "4",
   "metadata": {},
   "outputs": [],
   "source": [
    "# 対数尤度の計算\n",
    "\n",
    "@torch.no_grad()\n",
    "def log_likelihood(sequences, batch_size=32):\n",
    "    lls = []\n",
    "    for i in tqdm(range(0, len(sequences), batch_size)):\n",
    "        batch_sequences = sequences[i : i + batch_size]\n",
    "        inputs = tokenizer(\n",
    "            batch_sequences, return_tensors=\"pt\", padding=True, add_special_tokens=False\n",
    "        ).to(device)\n",
    "        input_ids = inputs.input_ids  # (B, L)\n",
    "        attention_mask = inputs.attention_mask  # (B, L)\n",
    "\n",
    "        logits = model(input_ids).logits  # (B, L, V)\n",
    "        logits = logits[:, :-1, :]  # (B, L-1, V)\n",
    "        targets = input_ids[:, 1:]  # (B, L-1)\n",
    "\n",
    "        # tokens = list(\"ACDEFGHIKLMNPQRSTVWYBXZUO\")\n",
    "        # ids = tokenizer.convert_tokens_to_ids(tokens)\n",
    "        # first_tok, last_tok = min(ids), max(ids)\n",
    "        first_tok, last_tok = 5, 29\n",
    "\n",
    "        logits = logits[:, :, first_tok : last_tok + 1]  # (B, L-1, 25)\n",
    "        targets = targets - first_tok  # (B, L-1)\n",
    "        masks = attention_mask[:, 1:]  # (B, L-1)\n",
    "\n",
    "        for logit, target, mask in zip(logits, targets, masks):\n",
    "            ll = -F.cross_entropy(logit[mask.bool()], target[mask.bool()], reduction=\"mean\")\n",
    "            lls.append(ll.item())\n",
    "    return lls\n",
    "\n",
    "\n",
    "df[\"log_likelihood\"] = log_likelihood(df[\"sequence\"].tolist(), batch_size=32)\n",
    "df[\"likelihood\"] = np.exp(df[\"log_likelihood\"])\n",
    "df[\"delta\"] = df[\"log_likelihood\"] - df[\"log_likelihood\"].iloc[0]"
   ]
  },
  {
   "cell_type": "code",
   "execution_count": null,
   "id": "5",
   "metadata": {},
   "outputs": [],
   "source": [
    "# 結果の表示\n",
    "\n",
    "X = df[\"delta\"].values\n",
    "y = df[\"brightness\"].values\n",
    "\n",
    "# 共分散を計算\n",
    "cov = np.cov(X, y, ddof=0)[0, 1]\n",
    "\n",
    "# 相関係数を計算\n",
    "r = cov / (np.std(X) * np.std(y))\n",
    "print(f\"R: {r:.3f}\")\n",
    "\n",
    "# 線形回帰の計算\n",
    "lr = LinearRegression().fit(X.reshape(-1, 1), y)\n",
    "r2 = lr.score(X.reshape(-1, 1), y)\n",
    "print(f\"R^2: {r2:.3f}\")\n",
    "\n",
    "y_pred = lr.predict(X.reshape(-1, 1))"
   ]
  },
  {
   "cell_type": "code",
   "execution_count": null,
   "id": "6",
   "metadata": {},
   "outputs": [],
   "source": [
    "# 結果のプロット\n",
    "\n",
    "plt.figure(figsize=(12, 8), dpi=100)\n",
    "plt.scatter(X, y, s=10)\n",
    "indices = np.argsort(X.flatten())\n",
    "plt.plot(\n",
    "    X.flatten()[indices],\n",
    "    y_pred[indices],\n",
    "    linewidth=2,\n",
    "    label=f\"R^2 = {r2:.3f}\",\n",
    "    color=\"red\",\n",
    ")\n",
    "plt.xlabel(\"Likelihood\")\n",
    "plt.ylabel(\"Brightness\")\n",
    "plt.legend()\n",
    "plt.tight_layout()\n",
    "plt.savefig(\"../figures/eda1/likelihood_vs_brightness.png\")\n",
    "plt.show()"
   ]
  }
 ],
 "metadata": {
  "kernelspec": {
   "display_name": ".venv",
   "language": "python",
   "name": "python3"
  },
  "language_info": {
   "codemirror_mode": {
    "name": "ipython",
    "version": 3
   },
   "file_extension": ".py",
   "mimetype": "text/x-python",
   "name": "python",
   "nbconvert_exporter": "python",
   "pygments_lexer": "ipython3",
   "version": "3.12.3"
  }
 },
 "nbformat": 4,
 "nbformat_minor": 5
}
